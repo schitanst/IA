{
 "cells": [
  {
   "cell_type": "code",
   "execution_count": 41,
   "id": "12e2d06d",
   "metadata": {},
   "outputs": [],
   "source": [
    "# 1. Print the solutions of equation ax^2 + bx + c = 0"
   ]
  },
  {
   "cell_type": "code",
   "execution_count": 43,
   "id": "fd90a2af",
   "metadata": {},
   "outputs": [],
   "source": [
    "import math"
   ]
  },
  {
   "cell_type": "code",
   "execution_count": 126,
   "id": "4c91cb99",
   "metadata": {},
   "outputs": [],
   "source": [
    "a = 4\n",
    "b = -4\n",
    "c = 1"
   ]
  },
  {
   "cell_type": "code",
   "execution_count": 127,
   "id": "06b7e497",
   "metadata": {},
   "outputs": [],
   "source": [
    "delta = b ** 2 - 4 * a * c"
   ]
  },
  {
   "cell_type": "code",
   "execution_count": 129,
   "id": "0eff7a9b",
   "metadata": {},
   "outputs": [],
   "source": [
    "X1 = (- b - delta ** (1/2)) / (2 * a)\n",
    "X2 = (- b + delta ** (1/2)) / (2 * a)"
   ]
  },
  {
   "cell_type": "code",
   "execution_count": 142,
   "id": "7eaa1ba9",
   "metadata": {},
   "outputs": [
    {
     "name": "stdout",
     "output_type": "stream",
     "text": [
      "Ecuația are o singură soluție:\n",
      "x =  0.5\n"
     ]
    }
   ],
   "source": [
    "if delta < 0:\n",
    "    print('Ecuația nu are soluții:')\n",
    "elif delta > 0:\n",
    "    print('Soluțiile ecuației sunt:')\n",
    "    print('x1 = ',X1)\n",
    "    print('x2 = ',X2)\n",
    "else:\n",
    "    print('Ecuația are o singură soluție:')\n",
    "    print('x = ',X1)    \n",
    "\n",
    "    \n",
    "    "
   ]
  },
  {
   "cell_type": "code",
   "execution_count": null,
   "id": "0d8d2432",
   "metadata": {},
   "outputs": [],
   "source": []
  },
  {
   "cell_type": "code",
   "execution_count": 131,
   "id": "c1f4275b",
   "metadata": {},
   "outputs": [],
   "source": [
    "# 2. Eucledian distance between (X1, Y1) and (X2, Y2)"
   ]
  },
  {
   "cell_type": "code",
   "execution_count": 139,
   "id": "0ac14c24",
   "metadata": {},
   "outputs": [],
   "source": [
    "(x1, y1) = (4, 2)\n",
    "(x2, y2) = (6, 2)"
   ]
  },
  {
   "cell_type": "code",
   "execution_count": 140,
   "id": "9a5cce13",
   "metadata": {},
   "outputs": [],
   "source": [
    "d = (((x2-x1)** 2)+((y2-y1)** 2)) ** (1/2)"
   ]
  },
  {
   "cell_type": "code",
   "execution_count": 141,
   "id": "48b49760",
   "metadata": {},
   "outputs": [
    {
     "data": {
      "text/plain": [
       "2.0"
      ]
     },
     "execution_count": 141,
     "metadata": {},
     "output_type": "execute_result"
    }
   ],
   "source": [
    "d"
   ]
  },
  {
   "cell_type": "code",
   "execution_count": null,
   "id": "977e5ba4",
   "metadata": {},
   "outputs": [],
   "source": []
  }
 ],
 "metadata": {
  "kernelspec": {
   "display_name": "Python 3 (ipykernel)",
   "language": "python",
   "name": "python3"
  },
  "language_info": {
   "codemirror_mode": {
    "name": "ipython",
    "version": 3
   },
   "file_extension": ".py",
   "mimetype": "text/x-python",
   "name": "python",
   "nbconvert_exporter": "python",
   "pygments_lexer": "ipython3",
   "version": "3.7.9"
  }
 },
 "nbformat": 4,
 "nbformat_minor": 5
}
