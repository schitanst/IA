{
 "cells": [
  {
   "cell_type": "code",
   "execution_count": 1,
   "id": "a37712d6",
   "metadata": {},
   "outputs": [
    {
     "name": "stdout",
     "output_type": "stream",
     "text": [
      "a = 4\n",
      "b = -4\n",
      "c = 1\n",
      "Ecuația are o singură soluție:\n",
      "x =  0.5\n"
     ]
    }
   ],
   "source": [
    "# 1. Print the solutions of equation ax^2 + bx + c = 0\n",
    "import math\n",
    "a = int(input('a = '))\n",
    "b = int(input('b = '))\n",
    "c = int(input('c = '))\n",
    "delta = b ** 2 - 4 * a * c\n",
    "X1 = (- b - delta ** (1/2)) / (2 * a)\n",
    "X2 = (- b + delta ** (1/2)) / (2 * a)\n",
    "if delta < 0:\n",
    "    print('Ecuația nu are soluții:')\n",
    "elif delta > 0:\n",
    "    print('Soluțiile ecuației sunt:')\n",
    "    print('x1 = ',X1)\n",
    "    print('x2 = ',X2)\n",
    "else:\n",
    "    print('Ecuația are o singură soluție:')\n",
    "    print('x = ',X1)"
   ]
  },
  {
   "cell_type": "code",
   "execution_count": 2,
   "id": "4b51c2bc",
   "metadata": {},
   "outputs": [
    {
     "name": "stdout",
     "output_type": "stream",
     "text": [
      "X1 = 4\n",
      "Y1 = 2\n",
      "X2 = 6\n",
      "Y2 = 2\n",
      "Distanța dintre punctele (4, 2)  și (6, 2)  este:  2.0\n"
     ]
    }
   ],
   "source": [
    "# 2. Eucledian distance between (X1, Y1) and (X2, Y2)\n",
    "x1 = int(input('X1 = '))\n",
    "y1 = int(input('Y1 = '))\n",
    "x2 = int(input('X2 = '))\n",
    "y2 = int(input('Y2 = '))\n",
    "d = (((x2-x1)** 2)+((y2-y1)** 2)) ** (1/2)\n",
    "print('Distanța dintre punctele', (x1, y1),' și', (x2, y2),' este: ', d)"
   ]
  },
  {
   "cell_type": "code",
   "execution_count": null,
   "id": "82bb366e",
   "metadata": {},
   "outputs": [],
   "source": []
  }
 ],
 "metadata": {
  "kernelspec": {
   "display_name": "Python 3 (ipykernel)",
   "language": "python",
   "name": "python3"
  },
  "language_info": {
   "codemirror_mode": {
    "name": "ipython",
    "version": 3
   },
   "file_extension": ".py",
   "mimetype": "text/x-python",
   "name": "python",
   "nbconvert_exporter": "python",
   "pygments_lexer": "ipython3",
   "version": "3.7.9"
  }
 },
 "nbformat": 4,
 "nbformat_minor": 5
}
