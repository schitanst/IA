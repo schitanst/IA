{
 "cells": [
  {
   "cell_type": "code",
   "execution_count": 1,
   "id": "e22669aa",
   "metadata": {},
   "outputs": [],
   "source": [
    "#    CULEGERE DE PROBLEME: EX. 2 PAG. 52\n",
    "#    Se dă un vector cu n (1<= n <= 100) componente de numere întregi. Să se calculeze: \n",
    "#    a) suma componentelor lui;   \n",
    "#    b) produsul componentelor lui."
   ]
  },
  {
   "cell_type": "code",
   "execution_count": 2,
   "id": "2bae0b18",
   "metadata": {},
   "outputs": [
    {
     "name": "stdout",
     "output_type": "stream",
     "text": [
      "Câte elemente doriți să conțină lista? 5\n",
      "Tastați 'Y' pentru a genera aleatoriu componentele listei\n",
      "Tastați 'X' pentru a introduce manual componentele listei\n",
      "x\n",
      "Introdu un număr întreg: 3\n",
      "Introdu un număr întreg: -7\n",
      "Introdu un număr întreg: 11\n",
      "Introdu un număr întreg: 4\n",
      "Introdu un număr întreg: 0\n",
      "Suma elementelor listei date este : 11\n",
      "Produsul elementelor listei date este : 0\n"
     ]
    }
   ],
   "source": [
    "\n",
    "import math\n",
    "import random\n",
    "lst = []\n",
    "num = int(input('Câte elemente doriți să conțină lista? '))\n",
    "print(\"Tastați 'Y' pentru a genera aleatoriu componentele listei\")\n",
    "print(\"Tastați 'X' pentru a introduce manual componentele listei\")\n",
    "chs = input()\n",
    "if chs == 'y':\n",
    "    lst = random.sample(range(-99999, 99999), num)\n",
    "    print(lst)\n",
    "elif chs == 'x':\n",
    "    for n in range(num):\n",
    "        numbers = int(input('Introdu un număr întreg: '))\n",
    "        lst.append(numbers)\n",
    "prod = 1\n",
    "print(\"Suma elementelor listei date este :\", sum(lst))\n",
    "for k in lst:\n",
    "    prod = prod * k\n",
    "print(\"Produsul elementelor listei date este :\", prod)"
   ]
  },
  {
   "cell_type": "code",
   "execution_count": null,
   "id": "d14896ea",
   "metadata": {},
   "outputs": [],
   "source": []
  }
 ],
 "metadata": {
  "kernelspec": {
   "display_name": "Python 3 (ipykernel)",
   "language": "python",
   "name": "python3"
  },
  "language_info": {
   "codemirror_mode": {
    "name": "ipython",
    "version": 3
   },
   "file_extension": ".py",
   "mimetype": "text/x-python",
   "name": "python",
   "nbconvert_exporter": "python",
   "pygments_lexer": "ipython3",
   "version": "3.7.9"
  }
 },
 "nbformat": 4,
 "nbformat_minor": 5
}
